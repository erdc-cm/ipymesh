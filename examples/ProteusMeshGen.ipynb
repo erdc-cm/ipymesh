{
 "cells": [
  {
   "cell_type": "code",
   "execution_count": 1,
   "metadata": {
    "extensions": {
     "jupyter_dashboards": {
      "version": 1,
      "views": {
       "grid_default": {
        "hidden": true
       },
       "report_default": {}
      }
     }
    }
   },
   "outputs": [],
   "source": [
    "%matplotlib ipympl\n",
    "from ipymesh import PSLGEditor\n",
    "from proteus import Domain\n",
    "\n",
    "class PSLG_DomainEditor(PSLGEditor, Domain.PlanarStraightLineGraphDomain):\n",
    "    def __init__(self, *args, **kwargs):\n",
    "        super(PSLG_DomainEditor, self).__init__(*args, **kwargs)"
   ]
  },
  {
   "cell_type": "code",
   "execution_count": 2,
   "metadata": {
    "extensions": {
     "jupyter_dashboards": {
      "version": 1,
      "views": {
       "grid_default": {
        "col": 0,
        "height": 19,
        "hidden": false,
        "row": 0,
        "width": null
       },
       "report_default": {}
      }
     }
    }
   },
   "outputs": [
    {
     "data": {
      "application/vnd.jupyter.widget-view+json": {
       "model_id": "394994c281db43d6a40cc037748c6eb7",
       "version_major": 2,
       "version_minor": 0
      },
      "text/plain": [
       "PSLG_DomainEditor(boundaryTypes=[1, 2, 0], children=(Graph(add_new='vertex', boundary_type=1, holes=[[0.348701…"
      ]
     },
     "metadata": {},
     "output_type": "display_data"
    }
   ],
   "source": [
    "deditor = PSLG_DomainEditor(vertices=[[0.1, 0.1], \n",
    "                                      [0.1, 0.9], \n",
    "                                      [0.9120345052083333, 0.5249609375], \n",
    "                                      [0.618701171875, 0.5049609375], \n",
    "                                      [0.6220345052083334, 0.3216276041666667], \n",
    "                                      [0.913701171875, 0.33329427083333335], \n",
    "                                      [0.918701171875, 0.1], \n",
    "                                      [0.898701171875, 0.9082942708333334], \n",
    "                                      [0.23536786397298176, 0.6149609375], \n",
    "                                      [0.37036786397298177, 0.4882942708333333], \n",
    "                                      [0.4553678385416667, 0.5916276041666667], \n",
    "                                      [0.3203678639729818, 0.7132942708333333]], \n",
    "                            vertexFlags=[1, 1, 2, 2, 2, 2, 2, 2, 2, 2, 2, 2], \n",
    "                            segments=[[0, 1], [5, 6], [4, 5], [3, 4], [2, 3], \n",
    "                                      [2, 7], [1, 7], [8, 11], [8, 9], [9, 10], \n",
    "                                      [10, 11], [0, 6]], \n",
    "                            segmentFlags=[1, 2, 2, 2, 2, 2, 2, 2, 2, 2, 2, 1], \n",
    "                            regions=[(0.4, 0.75)], \n",
    "                            regionFlags=[1], \n",
    "                            regionTypes=[1, 2, 0],\n",
    "                            holes=[[0.3487011973063151, 0.5881998697916667]],\n",
    "                            boundaryTypes=[1,2,0],\n",
    "                            regionConstraints=None)\n",
    "deditor"
   ]
  },
  {
   "cell_type": "code",
   "execution_count": 3,
   "metadata": {
    "extensions": {
     "jupyter_dashboards": {
      "version": 1,
      "views": {
       "grid_default": {
        "hidden": true
       },
       "report_default": {}
      }
     }
    }
   },
   "outputs": [],
   "source": [
    "from proteus.TransportCoefficients import TC_base\n",
    "class LAD(TC_base):\n",
    "    \"\"\"\n",
    "    The coefficients of the linear advection-diffusion equation\n",
    "    \"\"\"\n",
    "    def __init__(self,M,A,B):\n",
    "        TC_base.__init__(self, \n",
    "                         nc=1, #number of components\n",
    "                         variableNames=['u'],\n",
    "                         mass      = {0:{0:'linear'}},\n",
    "                         advection = {0:{0:'linear'}},\n",
    "                         diffusion = {0:{0:{0:'constant'}}},\n",
    "                         potential = {0:{0:'u'}},\n",
    "                         reaction  = {0:{0:'linear'}})\n",
    "        self.M=M;\n",
    "        self.A=A;\n",
    "        self.B=B;\n",
    "    \n",
    "    def evaluate(self,t,c):\n",
    "        c[('m',0)][:]         = self.M*c[('u',0)]  \n",
    "        c[('dm',0,0)][:]      = self.M\n",
    "        c[('f',0)][...,0]     = self.B[0]*c[('u',0)]\n",
    "        c[('f',0)][...,1]     = self.B[1]*c[('u',0)]\n",
    "        c[('df',0,0)][...,0]  = self.B[0]\n",
    "        c[('df',0,0)][...,1]  = self.B[1]\n",
    "        c[('a',0,0)][...,0,0] = self.A[0][0]\n",
    "        c[('a',0,0)][...,1,1] = self.A[1][1]"
   ]
  },
  {
   "cell_type": "code",
   "execution_count": 4,
   "metadata": {},
   "outputs": [],
   "source": [
    "from proteus.iproteus import * \n",
    "Profiling.logLevel=7\n",
    "Profiling.verbose=False\n",
    "from proteus import default_p as p\n",
    "#physics\n",
    "p.name = \"ladr_2d\"\n",
    "p.nd = 2; #Two dimensions\n",
    "p.L=(1.0,1.0); \n",
    "p.T=1.0\n",
    "p.domain=deditor\n",
    "p.domain.writePoly('mesh')\n",
    "p.domain.MeshOptions.genMesh=True\n",
    "p.coefficients=LAD(M=1.0,\n",
    "                    A=[[0.001,0.0],\n",
    "                       [0.0,0.001]],\n",
    "                    B=[2.0,1.0])\n",
    "\n",
    "def getDBC(x,flag):\n",
    "    if flag == 1:\n",
    "        return lambda x,t: 1.0\n",
    "    if flag == 2:\n",
    "        return lambda x,t: 0.0\n",
    "\n",
    "def getFlux(x,flag):\n",
    "    return None\n",
    "    \n",
    "p.dirichletConditions = {0:getDBC}\n",
    "p.advectiveFluxBoundaryConditions = {0:getFlux}\n",
    "p.diffusiveFluxBoundaryConditions = {0:{0:getFlux}}\n",
    "p.periodicDirichletConditions = None\n",
    "class IC:\n",
    "    def __init__(self):\n",
    "        pass\n",
    "    def uOfXT(self,x,t):\n",
    "        eps=1.0e-4\n",
    "        if x[0] <= 0.1+eps or x[1] <= 0.1+eps:\n",
    "            return 1.0\n",
    "        else:\n",
    "            return 0.0\n",
    "\n",
    "p.initialConditions  = {0:IC()}"
   ]
  },
  {
   "cell_type": "code",
   "execution_count": 5,
   "metadata": {},
   "outputs": [],
   "source": [
    "from proteus import default_n as n\n",
    "import proteus as pr\n",
    "n.timeIntegration = pr.TimeIntegration.BackwardEuler_cfl\n",
    "n.stepController = pr.StepControl.Min_dt_cfl_controller\n",
    "n.runCFL=0.9\n",
    "n.femSpaces = {0:pr.FemTools.C0_AffineLinearOnSimplexWithNodalBasis}\n",
    "n.elementQuadrature = pr.Quadrature.SimplexGaussQuadrature(p.nd,3)\n",
    "n.elementBoundaryQuadrature = pr.Quadrature.SimplexGaussQuadrature(p.nd-1,3)\n",
    "n.subgridError = pr.SubgridError.AdvectionDiffusionReaction_ASGS(p.coefficients,\n",
    "                                                                 p.nd,\n",
    "                                                                 lag=True)\n",
    "n.shockCapturing = pr.ShockCapturing.ResGradQuad_SC(p.coefficients,\n",
    "                                                    p.nd,\n",
    "                                                    shockCapturingFactor=2,\n",
    "                                                    lag=True)\n",
    "n.numericalFluxType = pr.NumericalFlux.Advection_DiagonalUpwind_Diffusion_SIPG_exterior\n",
    "n.triangleOptions=\"q30DenAa{0:f}\".format(0.001)\n",
    "n.tnList=[float(i)/40.0 for i in range(11)]\n",
    "n.matrix = pr.LinearAlgebraTools.SparseMatrix\n",
    "n.multilevelLinearSolver = pr.LinearSolvers.LU\n",
    "n.l_atol_res = 1.0e-8\n",
    "n.parallelPartitioningType = pr.MeshTools.MeshParallelPartitioningTypes.node\n",
    "n.nLayersOfOverlapForParallel = 1\n",
    "n.periodicDirichletConditions = None"
   ]
  },
  {
   "cell_type": "code",
   "execution_count": 6,
   "metadata": {},
   "outputs": [],
   "source": [
    "from proteus import default_s,default_so, SplitOperator\n",
    "so = default_so\n",
    "so.name = p.name \n",
    "so.sList=[default_s]\n",
    "so.tnList = n.tnList\n",
    "#so.systemStepControllerType = SplitOperator.Sequential_FixedStep\n",
    "#so.systemStepControllerType = SplitOperator.Sequential_FixedStep_Simple\n",
    "#so.dt_system_fixed= 0.001\n",
    "so.systemStepControllerType = SplitOperator.Sequential_MinModelStep\n",
    "so.systemStepExact= False"
   ]
  },
  {
   "cell_type": "code",
   "execution_count": 7,
   "metadata": {},
   "outputs": [],
   "source": [
    "from proteus import NumericalSolution\n",
    "ns = NumericalSolution.NS_base(so,[p],[n],so.sList,opts)"
   ]
  },
  {
   "cell_type": "code",
   "execution_count": 8,
   "metadata": {},
   "outputs": [],
   "source": [
    "failed = ns.calculateSolution('ladr_run1')\n",
    "assert(not failed)"
   ]
  },
  {
   "cell_type": "code",
   "execution_count": 9,
   "metadata": {},
   "outputs": [
    {
     "data": {
      "application/vnd.jupyter.widget-view+json": {
       "model_id": "f01f0caaab2c44748a5068bfdc6d783b",
       "version_major": 2,
       "version_minor": 0
      },
      "text/plain": [
       "Canvas(toolbar=Toolbar(toolitems=[('Home', 'Reset original view', 'home', 'home'), ('Back', 'Back to previous …"
      ]
     },
     "metadata": {},
     "output_type": "display_data"
    },
    {
     "data": {
      "text/plain": [
       "<matplotlib.colorbar.Colorbar at 0x19e5d48b0>"
      ]
     },
     "execution_count": 9,
     "metadata": {},
     "output_type": "execute_result"
    }
   ],
   "source": [
    "%matplotlib ipympl\n",
    "from matplotlib import pyplot as plt\n",
    "fig = plt.figure()\n",
    "x = ns.modelList[0].levelModelList[-1].mesh.nodeArray[:,0]\n",
    "y = ns.modelList[0].levelModelList[-1].mesh.nodeArray[:,1]\n",
    "triangles = ns.modelList[0].levelModelList[-1].mesh.elementNodesArray\n",
    "u = ns.modelList[0].levelModelList[-1].u[0].dof\n",
    "plt.tricontourf(x,y,triangles,u,cmap='jet')\n",
    "plt.colorbar()"
   ]
  },
  {
   "cell_type": "code",
   "execution_count": 10,
   "metadata": {},
   "outputs": [
    {
     "data": {
      "application/vnd.jupyter.widget-view+json": {
       "model_id": "a0d20bd297e344408de8ed65e44cd587",
       "version_major": 2,
       "version_minor": 0
      },
      "text/plain": [
       "Canvas(toolbar=Toolbar(toolitems=[('Home', 'Reset original view', 'home', 'home'), ('Back', 'Back to previous …"
      ]
     },
     "metadata": {},
     "output_type": "display_data"
    },
    {
     "data": {
      "text/plain": [
       "[<matplotlib.lines.Line2D at 0x19e6e7340>,\n",
       " <matplotlib.lines.Line2D at 0x19e6e75b0>]"
      ]
     },
     "execution_count": 10,
     "metadata": {},
     "output_type": "execute_result"
    }
   ],
   "source": [
    "fig = plt.figure()\n",
    "plt.triplot(x,y,triangles)"
   ]
  },
  {
   "cell_type": "code",
   "execution_count": 11,
   "metadata": {},
   "outputs": [
    {
     "data": {
      "application/vnd.jupyter.widget-view+json": {
       "model_id": "310a8c2d869548bd8176accca16249a5",
       "version_major": 2,
       "version_minor": 0
      },
      "text/plain": [
       "Canvas(toolbar=Toolbar(toolitems=[('Home', 'Reset original view', 'home', 'home'), ('Back', 'Back to previous …"
      ]
     },
     "metadata": {},
     "output_type": "display_data"
    }
   ],
   "source": [
    "import matplotlib.tri as mtri\n",
    "import h5py\n",
    "import numpy as np\n",
    "archive = h5py.File('ladr_2d.h5','r')\n",
    "domain = p.domain\n",
    "#domain.\n",
    "#domain.x=[domain.x0, domain.y0]\n",
    "#domain.L=[domain.Lx, domain.Ly]\n",
    "domain.nd=2\n",
    "domain.getBoundingBox()\n",
    "triang = mtri.Triangulation(x, y, triangles)\n",
    "xg = np.linspace(0, domain.L[0], 20)\n",
    "yg = np.linspace(0, domain.L[1], 20)\n",
    "plt.figure()\n",
    "for it,t in enumerate(n.tnList):\n",
    "    u = archive[\"/u_t{0}\".format(it)]\n",
    "    plt.clf()\n",
    "    plt.xlabel(r'z[m]')\n",
    "    plt.ylabel(r'x[m]')\n",
    "    colors = ['b','g','r','c','m','y','k','w']\n",
    "    plt.xlim(domain.x[0]-0.1*domain.L[0],domain.x[0]+domain.L[0]+0.1*domain.L[0])    \n",
    "    for si,s in enumerate(domain.segments):\n",
    "        plt.plot([domain.vertices[s[0]][0],\n",
    "                     domain.vertices[s[1]][0]],\n",
    "                    [domain.vertices[s[0]][1],\n",
    "                     domain.vertices[s[1]][1]],\n",
    "                    color=colors[domain.segmentFlags[si]-1],\n",
    "                    linewidth=2,\n",
    "                    marker='o')\n",
    "    plt.tricontourf(x,y,triangles, u,levels=np.linspace(-0.2,1.2,101),cmap='jet')\n",
    "    plt.colorbar()\n",
    "    plt.title('T=%2.2f' % (t,))\n",
    "    plt.axis('equal')\n",
    "    plt.xlim((0,domain.L[0]))\n",
    "    plt.savefig('phi%4.4d.png' % (it,))"
   ]
  },
  {
   "cell_type": "code",
   "execution_count": 12,
   "metadata": {},
   "outputs": [
    {
     "name": "stdout",
     "output_type": "stream",
     "text": [
      "ffmpeg version 4.3.1 Copyright (c) 2000-2020 the FFmpeg developers\n",
      "  built with clang version 11.0.0\n",
      "  configuration: --prefix=/Users/cekees/miniconda3/envs/proteus-dev-small --cc=x86_64-apple-darwin13.4.0-clang --disable-doc --disable-openssl --enable-avresample --enable-gnutls --enable-gpl --enable-hardcoded-tables --enable-libfreetype --enable-libopenh264 --enable-libx264 --enable-pic --enable-pthreads --enable-shared --enable-static --enable-version3 --enable-zlib --enable-libmp3lame --pkg-config=/Users/runner/miniforge3/conda-bld/ffmpeg_1609681034781/_build_env/bin/pkg-config\n",
      "  libavutil      56. 51.100 / 56. 51.100\n",
      "  libavcodec     58. 91.100 / 58. 91.100\n",
      "  libavformat    58. 45.100 / 58. 45.100\n",
      "  libavdevice    58. 10.100 / 58. 10.100\n",
      "  libavfilter     7. 85.100 /  7. 85.100\n",
      "  libavresample   4.  0.  0 /  4.  0.  0\n",
      "  libswscale      5.  7.100 /  5.  7.100\n",
      "  libswresample   3.  7.100 /  3.  7.100\n",
      "  libpostproc    55.  7.100 / 55.  7.100\n",
      "Input #0, image2, from 'phi%4d.png':\n",
      "  Duration: 00:00:00.44, start: 0.000000, bitrate: N/A\n",
      "    Stream #0:0: Video: png, rgba(pc), 640x480 [SAR 3937:3937 DAR 4:3], 25 fps, 25 tbr, 25 tbn, 25 tbc\n",
      "Stream mapping:\n",
      "  Stream #0:0 -> #0:0 (png (native) -> h264 (libx264))\n",
      "Press [q] to stop, [?] for help\n",
      "\u001b[1;36m[libx264 @ 0x7fc9e2008e00] \u001b[0musing SAR=1/1\n",
      "\u001b[1;36m[libx264 @ 0x7fc9e2008e00] \u001b[0musing cpu capabilities: MMX2 SSE2Fast SSSE3 SSE4.2 AVX FMA3 BMI2 AVX2\n",
      "\u001b[1;36m[libx264 @ 0x7fc9e2008e00] \u001b[0mprofile High 4:4:4 Predictive, level 3.0, 4:4:4, 8-bit\n",
      "\u001b[1;36m[libx264 @ 0x7fc9e2008e00] \u001b[0m264 - core 161 r3030M 8bd6d28 - H.264/MPEG-4 AVC codec - Copyleft 2003-2020 - http://www.videolan.org/x264.html - options: cabac=1 ref=3 deblock=1:0:0 analyse=0x3:0x113 me=hex subme=7 psy=1 psy_rd=1.00:0.00 mixed_ref=1 me_range=16 chroma_me=1 trellis=1 8x8dct=1 cqm=0 deadzone=21,11 fast_pskip=1 chroma_qp_offset=4 threads=15 lookahead_threads=2 sliced_threads=0 nr=0 decimate=1 interlaced=0 bluray_compat=0 constrained_intra=0 bframes=3 b_pyramid=2 b_adapt=1 b_bias=0 direct=1 weightb=1 open_gop=0 weightp=2 keyint=250 keyint_min=25 scenecut=40 intra_refresh=0 rc_lookahead=40 rc=crf mbtree=1 crf=23.0 qcomp=0.60 qpmin=0 qpmax=69 qpstep=4 ip_ratio=1.40 aq=1:1.00\n",
      "Output #0, mp4, to 'tankPhi.mp4':\n",
      "  Metadata:\n",
      "    encoder         : Lavf58.45.100\n",
      "    Stream #0:0: Video: h264 (libx264) (avc1 / 0x31637661), yuv444p, 640x480 [SAR 1:1 DAR 4:3], q=-1--1, 25 fps, 12800 tbn, 25 tbc\n",
      "    Metadata:\n",
      "      encoder         : Lavc58.91.100 libx264\n",
      "    Side data:\n",
      "      cpb: bitrate max/min/avg: 0/0/0 buffer size: 0 vbv_delay: N/A\n",
      "frame=   11 fps=0.0 q=-1.0 Lsize=      27kB time=00:00:00.32 bitrate= 686.4kbits/s speed=4.27x    \n",
      "video:26kB audio:0kB subtitle:0kB other streams:0kB global headers:0kB muxing overhead: 3.669448%\n",
      "\u001b[1;36m[libx264 @ 0x7fc9e2008e00] \u001b[0mframe I:1     Avg QP:24.86  size: 10390\n",
      "\u001b[1;36m[libx264 @ 0x7fc9e2008e00] \u001b[0mframe P:4     Avg QP:25.87  size:  2204\n",
      "\u001b[1;36m[libx264 @ 0x7fc9e2008e00] \u001b[0mframe B:6     Avg QP:27.20  size:  1099\n",
      "\u001b[1;36m[libx264 @ 0x7fc9e2008e00] \u001b[0mconsecutive B-frames: 18.2% 18.2% 27.3% 36.4%\n",
      "\u001b[1;36m[libx264 @ 0x7fc9e2008e00] \u001b[0mmb I  I16..4: 16.7% 61.4% 21.9%\n",
      "\u001b[1;36m[libx264 @ 0x7fc9e2008e00] \u001b[0mmb P  I16..4:  6.9% 10.0%  1.3%  P16..4:  6.2%  3.2%  2.2%  0.0%  0.0%    skip:70.3%\n",
      "\u001b[1;36m[libx264 @ 0x7fc9e2008e00] \u001b[0mmb B  I16..4:  1.2%  2.6%  0.0%  B16..8: 14.8%  3.6%  0.2%  direct: 0.5%  skip:77.1%  L0:31.3% L1:62.9% BI: 5.8%\n",
      "\u001b[1;36m[libx264 @ 0x7fc9e2008e00] \u001b[0m8x8 transform intra:59.8% inter:95.1%\n",
      "\u001b[1;36m[libx264 @ 0x7fc9e2008e00] \u001b[0mcoded y,u,v intra: 15.7% 11.0% 11.1% inter: 2.9% 2.8% 3.0%\n",
      "\u001b[1;36m[libx264 @ 0x7fc9e2008e00] \u001b[0mi16 v,h,dc,p: 45% 31%  1% 23%\n",
      "\u001b[1;36m[libx264 @ 0x7fc9e2008e00] \u001b[0mi8 v,h,dc,ddl,ddr,vr,hd,vl,hu: 42% 14% 24%  1%  6%  5%  6%  1%  1%\n",
      "\u001b[1;36m[libx264 @ 0x7fc9e2008e00] \u001b[0mi4 v,h,dc,ddl,ddr,vr,hd,vl,hu: 36% 36% 11%  3%  4%  3%  3%  2%  2%\n",
      "\u001b[1;36m[libx264 @ 0x7fc9e2008e00] \u001b[0mWeighted P-Frames: Y:0.0% UV:0.0%\n",
      "\u001b[1;36m[libx264 @ 0x7fc9e2008e00] \u001b[0mref P L0: 74.2% 12.7% 10.7%  2.3%\n",
      "\u001b[1;36m[libx264 @ 0x7fc9e2008e00] \u001b[0mref B L0: 92.1%  7.3%  0.6%\n",
      "\u001b[1;36m[libx264 @ 0x7fc9e2008e00] \u001b[0mref B L1: 96.8%  3.2%\n",
      "\u001b[1;36m[libx264 @ 0x7fc9e2008e00] \u001b[0mkb/s:469.07\n"
     ]
    }
   ],
   "source": [
    "!rm tankPhi.mp4; ffmpeg -i phi%4d.png -vcodec libx264 tankPhi.mp4"
   ]
  },
  {
   "cell_type": "code",
   "execution_count": 13,
   "metadata": {},
   "outputs": [
    {
     "data": {
      "text/html": [
       "<video src=\"tankPhi.mp4\" controls  >\n",
       "      Your browser does not support the <code>video</code> element.\n",
       "    </video>"
      ],
      "text/plain": [
       "<IPython.core.display.Video object>"
      ]
     },
     "execution_count": 13,
     "metadata": {},
     "output_type": "execute_result"
    }
   ],
   "source": [
    "from IPython.core.display import Video\n",
    "Video(\"tankPhi.mp4\")"
   ]
  }
 ],
 "metadata": {
  "extensions": {
   "jupyter_dashboards": {
    "activeView": "grid_default",
    "version": 1,
    "views": {
     "grid_default": {
      "cellMargin": 10,
      "defaultCellHeight": 20,
      "maxColumns": 12,
      "name": "grid",
      "type": "grid"
     },
     "report_default": {
      "name": "report",
      "type": "report"
     }
    }
   }
  },
  "kernelspec": {
   "display_name": "Python 3",
   "language": "python",
   "name": "python3"
  },
  "language_info": {
   "codemirror_mode": {
    "name": "ipython",
    "version": 3
   },
   "file_extension": ".py",
   "mimetype": "text/x-python",
   "name": "python",
   "nbconvert_exporter": "python",
   "pygments_lexer": "ipython3",
   "version": "3.9.1"
  }
 },
 "nbformat": 4,
 "nbformat_minor": 4
}
