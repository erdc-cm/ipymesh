{
 "cells": [
  {
   "cell_type": "code",
   "execution_count": 1,
   "metadata": {
    "hideOutput": true
   },
   "outputs": [
    {
     "data": {
      "application/vnd.jupyter.widget-view+json": {
       "model_id": "6e94906e17634d6d9917e5757889fc45",
       "version_major": 2,
       "version_minor": 0
      },
      "text/plain": [
       "PSLGEditor(boundaryTypes=[1, 2, 0], children=(Graph(Lx=10.0, add_new='vertex', boundary_type=1, height=311, im…"
      ]
     },
     "metadata": {},
     "output_type": "display_data"
    }
   ],
   "source": [
    "from ipymesh import PSLGEditor\n",
    "editor = PSLGEditor(vertices=[(0.1,0.1),\n",
    "                              (0.1,0.9),\n",
    "                              (0.9,0.9)],\n",
    "                   vertexFlags=[1,1,1],\n",
    "                   segments=[(0,1),\n",
    "                             (1,2),\n",
    "                             (0,2)],\n",
    "                   segmentFlags=[1,1,1],\n",
    "                   regions=[(0.4,0.75)],\n",
    "                   regionFlags=[1],\n",
    "                   regionTypes=[1,2,0],\n",
    "                   boundaryTypes=[1,2,0],\n",
    "                   Lx=10.0,\n",
    "                   Ly=1.0,\n",
    "                   width=804,\n",
    "                   height=311,\n",
    "                   image_filename=\"flume_schematic.png\")\n",
    "editor"
   ]
  },
  {
   "cell_type": "code",
   "execution_count": 2,
   "metadata": {
    "hideOutput": true
   },
   "outputs": [
    {
     "data": {
      "text/markdown": [
       "|vertex number|vertex coordinates|vertex flags|\n",
       "|-|-|-|\n",
       "|0|(0.1, 0.1)|1|\n",
       "|1|(0.1, 0.9)|1|\n",
       "|2|(0.9, 0.9)|1|\n"
      ],
      "text/plain": [
       "<IPython.core.display.Markdown object>"
      ]
     },
     "execution_count": 2,
     "metadata": {},
     "output_type": "execute_result"
    }
   ],
   "source": [
    "from IPython.display import Markdown\n",
    "vertex_table=\"|vertex number|vertex coordinates|vertex flags|\\n|-|-|-|\\n\"\n",
    "for vN,(v,vF) in enumerate(zip(editor.graph.vertices, editor.graph.vertexFlags)):\n",
    "    vertex_table+=\"|{0}|{1}|{2}|\\n\".format(vN,repr(v),vF)\n",
    "Markdown(vertex_table)"
   ]
  },
  {
   "cell_type": "code",
   "execution_count": 3,
   "metadata": {},
   "outputs": [
    {
     "data": {
      "text/markdown": [
       "|segment number|segment vertices|segment flags|\n",
       "|-|-|-|\n",
       "|0|(0, 1)|1|\n",
       "|1|(1, 2)|1|\n",
       "|2|(0, 2)|1|\n"
      ],
      "text/plain": [
       "<IPython.core.display.Markdown object>"
      ]
     },
     "execution_count": 3,
     "metadata": {},
     "output_type": "execute_result"
    }
   ],
   "source": [
    "segment_table=\"|segment number|segment vertices|segment flags|\\n|-|-|-|\\n\"\n",
    "for sN,(s,sF) in enumerate(zip(editor.graph.segments, editor.graph.segmentFlags)):\n",
    "    segment_table+=\"|{0}|{1}|{2}|\\n\".format(sN,repr(s),sF)\n",
    "Markdown(segment_table)"
   ]
  },
  {
   "cell_type": "code",
   "execution_count": 4,
   "metadata": {},
   "outputs": [
    {
     "data": {
      "text/markdown": [
       "|region number|region coordinates|region flags|\n",
       "|-|-|-|\n",
       "|0|(0.4, 0.75)|1|\n"
      ],
      "text/plain": [
       "<IPython.core.display.Markdown object>"
      ]
     },
     "execution_count": 4,
     "metadata": {},
     "output_type": "execute_result"
    }
   ],
   "source": [
    "region_table=\"|region number|region coordinates|region flags|\\n|-|-|-|\\n\"\n",
    "for rN, (r, rF) in enumerate(zip(editor.graph.regions,editor.graph.regionFlags)):\n",
    "    region_table+=\"|{0}|{1}|{2}|\\n\".format(rN,repr(r),rF)\n",
    "Markdown(region_table)"
   ]
  },
  {
   "cell_type": "code",
   "execution_count": 5,
   "metadata": {},
   "outputs": [
    {
     "data": {
      "text/markdown": [
       "|hole number|hole coordinates|\n",
       "|-|-|\n"
      ],
      "text/plain": [
       "<IPython.core.display.Markdown object>"
      ]
     },
     "execution_count": 5,
     "metadata": {},
     "output_type": "execute_result"
    }
   ],
   "source": [
    "hole_table=\"|hole number|hole coordinates|\\n|-|-|\\n\"\n",
    "for hN, h in enumerate(editor.graph.holes):\n",
    "    hole_table+=\"|{0}|{1}|\\n\".format(hN,repr(h))\n",
    "Markdown(hole_table)"
   ]
  },
  {
   "cell_type": "code",
   "execution_count": null,
   "metadata": {},
   "outputs": [],
   "source": []
  }
 ],
 "metadata": {
  "kernelspec": {
   "display_name": "Python 3",
   "language": "python",
   "name": "python3"
  },
  "language_info": {
   "codemirror_mode": {
    "name": "ipython",
    "version": 3
   },
   "file_extension": ".py",
   "mimetype": "text/x-python",
   "name": "python",
   "nbconvert_exporter": "python",
   "pygments_lexer": "ipython3",
   "version": "3.9.1"
  }
 },
 "nbformat": 4,
 "nbformat_minor": 4
}
