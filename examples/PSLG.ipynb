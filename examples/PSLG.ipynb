{
 "cells": [
  {
   "cell_type": "code",
   "execution_count": 1,
   "metadata": {
    "hideOutput": true
   },
   "outputs": [],
   "source": [
    "from ipymesh import PSLGEditor"
   ]
  },
  {
   "cell_type": "code",
   "execution_count": 2,
   "metadata": {},
   "outputs": [
    {
     "data": {
      "application/vnd.jupyter.widget-view+json": {
       "model_id": "918ebf0c2ec64e16a59cd02a9537303d",
       "version_major": 2,
       "version_minor": 0
      },
      "text/plain": [
       "PSLGEditor(boundaryTypes=[1, 2, 0], children=(Graph(Lx=10.0, add_new='vertex', boundary_type=1, height=200, ho…"
      ]
     },
     "metadata": {},
     "output_type": "display_data"
    }
   ],
   "source": [
    "vertices = \\\n",
    "[[4.512500000000001, 0.08499999999999996],\n",
    " [0.3875, 0.81],\n",
    " [8.85, 0.87],\n",
    " [4.255000305175781, 0.6031668090820312],\n",
    " [2.517500305175781, 0.7181668090820312],\n",
    " [3.6175003051757812, 0.6831668090820313],\n",
    " [3.6425003051757816, 0.4281668090820312]]\n",
    "\n",
    "segments = [[0, 1], [1, 2], [0, 3], [2, 3], [5, 6], [4, 5], [4, 6]]\n",
    "\n",
    "regions = [[1.8800003051757814, 0.6831668090820313], [5.117500305175781, 0.36816680908203125]]\n",
    "\n",
    "holes = [[3.417500305175781, 0.6031668090820312]]\n",
    "\n",
    "editor = PSLGEditor(vertices=vertices,\n",
    "                   vertexFlags=[1 for i in vertices],\n",
    "                   segments=segments,\n",
    "                   segmentFlags=[1 for i in segments],\n",
    "                   regions=regions,\n",
    "                   regionFlags=[2, 0],\n",
    "                   holes=holes,\n",
    "                   regionTypes=[1, 2, 0],\n",
    "                   boundaryTypes=[1, 2, 0],\n",
    "                   Lx=10.0,\n",
    "                   Ly=1.0,\n",
    "                   width=800,\n",
    "                   height=200)\n",
    "editor"
   ]
  },
  {
   "cell_type": "code",
   "execution_count": 3,
   "metadata": {
    "hideOutput": true
   },
   "outputs": [
    {
     "data": {
      "text/markdown": [
       "|vertex number|vertex coordinates|vertex flags|\n",
       "|-|-|-|\n",
       "|0|[4.512500000000001, 0.08499999999999996]|1|\n",
       "|1|[0.3875, 0.81]|1|\n",
       "|2|[8.85, 0.87]|1|\n",
       "|3|[4.255000305175781, 0.6031668090820312]|1|\n",
       "|4|[2.517500305175781, 0.7181668090820312]|1|\n",
       "|5|[3.6175003051757812, 0.6831668090820313]|1|\n",
       "|6|[3.6425003051757816, 0.4281668090820312]|1|\n"
      ],
      "text/plain": [
       "<IPython.core.display.Markdown object>"
      ]
     },
     "execution_count": 3,
     "metadata": {},
     "output_type": "execute_result"
    }
   ],
   "source": [
    "from IPython.display import Markdown\n",
    "vertex_table=\"|vertex number|vertex coordinates|vertex flags|\\n|-|-|-|\\n\"\n",
    "for vN,(v,vF) in enumerate(zip(editor.graph.vertices, editor.graph.vertexFlags)):\n",
    "    vertex_table+=\"|{0}|{1}|{2}|\\n\".format(vN,repr(v),vF)\n",
    "Markdown(vertex_table)"
   ]
  },
  {
   "cell_type": "code",
   "execution_count": 4,
   "metadata": {},
   "outputs": [
    {
     "data": {
      "text/markdown": [
       "|segment number|segment vertices|segment flags|\n",
       "|-|-|-|\n",
       "|0|[0, 1]|1|\n",
       "|1|[1, 2]|1|\n",
       "|2|[0, 3]|1|\n",
       "|3|[2, 3]|1|\n",
       "|4|[5, 6]|1|\n",
       "|5|[4, 5]|1|\n",
       "|6|[4, 6]|1|\n"
      ],
      "text/plain": [
       "<IPython.core.display.Markdown object>"
      ]
     },
     "execution_count": 4,
     "metadata": {},
     "output_type": "execute_result"
    }
   ],
   "source": [
    "segment_table=\"|segment number|segment vertices|segment flags|\\n|-|-|-|\\n\"\n",
    "for sN,(s,sF) in enumerate(zip(editor.graph.segments, editor.graph.segmentFlags)):\n",
    "    segment_table+=\"|{0}|{1}|{2}|\\n\".format(sN,repr(s),sF)\n",
    "Markdown(segment_table)"
   ]
  },
  {
   "cell_type": "code",
   "execution_count": 5,
   "metadata": {},
   "outputs": [
    {
     "data": {
      "text/markdown": [
       "|region number|region coordinates|region flags|\n",
       "|-|-|-|\n",
       "|0|[1.8800003051757814, 0.6831668090820313]|2|\n",
       "|1|[5.117500305175781, 0.36816680908203125]|0|\n"
      ],
      "text/plain": [
       "<IPython.core.display.Markdown object>"
      ]
     },
     "execution_count": 5,
     "metadata": {},
     "output_type": "execute_result"
    }
   ],
   "source": [
    "region_table=\"|region number|region coordinates|region flags|\\n|-|-|-|\\n\"\n",
    "for rN, (r, rF) in enumerate(zip(editor.graph.regions,editor.graph.regionFlags)):\n",
    "    region_table+=\"|{0}|{1}|{2}|\\n\".format(rN,repr(r),rF)\n",
    "Markdown(region_table)"
   ]
  },
  {
   "cell_type": "code",
   "execution_count": 6,
   "metadata": {},
   "outputs": [
    {
     "data": {
      "text/markdown": [
       "|hole number|hole coordinates|\n",
       "|-|-|\n",
       "|0|[3.417500305175781, 0.6031668090820312]|\n"
      ],
      "text/plain": [
       "<IPython.core.display.Markdown object>"
      ]
     },
     "execution_count": 6,
     "metadata": {},
     "output_type": "execute_result"
    }
   ],
   "source": [
    "hole_table=\"|hole number|hole coordinates|\\n|-|-|\\n\"\n",
    "for hN, h in enumerate(editor.graph.holes):\n",
    "    hole_table+=\"|{0}|{1}|\\n\".format(hN,repr(h))\n",
    "Markdown(hole_table)"
   ]
  },
  {
   "cell_type": "code",
   "execution_count": 7,
   "metadata": {},
   "outputs": [],
   "source": [
    "editor.graph.vertexFlags = [0, 0, 0]\n",
    "editor.graph.vertices = [(0.1, 0.1), (0.1, 0.9), (2, 0.9)]\n",
    "editor.graph.segments = [(0, 1), (1, 2), (0, 2)]\n",
    "editor.graph.segmentFlags = [1, 1, 1]\n",
    "editor.graph.regions = [(0.5, 0.75), (0.6, 0.8)]\n",
    "editor.graph.regionFlags = [1, 2]\n",
    "editor.graph.holes = [(0.3, 0.8)]\n",
    "editor.graph.sync()"
   ]
  },
  {
   "cell_type": "code",
   "execution_count": null,
   "metadata": {},
   "outputs": [],
   "source": []
  }
 ],
 "metadata": {
  "kernelspec": {
   "display_name": "Python 3",
   "language": "python",
   "name": "python3"
  },
  "language_info": {
   "codemirror_mode": {
    "name": "ipython",
    "version": 3
   },
   "file_extension": ".py",
   "mimetype": "text/x-python",
   "name": "python",
   "nbconvert_exporter": "python",
   "pygments_lexer": "ipython3",
   "version": "3.9.1"
  }
 },
 "nbformat": 4,
 "nbformat_minor": 4
}
